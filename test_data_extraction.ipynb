{
 "cells": [
  {
   "cell_type": "code",
   "execution_count": 519,
   "id": "aggregate-representative",
   "metadata": {},
   "outputs": [],
   "source": [
    "import h5py\n",
    "import numpy as np\n",
    "import math\n",
    "from matplotlib import patches\n",
    "from scipy.integrate import simps\n",
    "import matplotlib.pylab as plt\n",
    "from utilities import visang, files"
   ]
  },
  {
   "cell_type": "code",
   "execution_count": 585,
   "id": "elect-response",
   "metadata": {},
   "outputs": [],
   "source": [
    "fil = h5py.File(\"/home/mjszul/BrainDyn Dropbox/Maciek Szul/explicit_implicit_beta/data/sub-101/ses-01/behaviour/block_5.mat\", \"r\")"
   ]
  },
  {
   "cell_type": "code",
   "execution_count": 506,
   "id": "interested-footage",
   "metadata": {},
   "outputs": [
    {
     "data": {
      "text/plain": [
       "<KeysViewHDF5 ['#refs#', 'display', 'fixation', 'rdk', 'run_data', 'run_params', 'targets']>"
      ]
     },
     "execution_count": 506,
     "metadata": {},
     "output_type": "execute_result"
    }
   ],
   "source": [
    "fil.keys()"
   ]
  },
  {
   "cell_type": "code",
   "execution_count": 4,
   "id": "prompt-attendance",
   "metadata": {},
   "outputs": [],
   "source": [
    "level1 = {k: list(fil[k].keys()) for k in fil.keys() if k not in \"#refs#\"}"
   ]
  },
  {
   "cell_type": "code",
   "execution_count": 5,
   "id": "catholic-river",
   "metadata": {},
   "outputs": [
    {
     "data": {
      "text/plain": [
       "{'display': ['black',\n",
       "  'blue',\n",
       "  'darkgrey',\n",
       "  'dist',\n",
       "  'green',\n",
       "  'grey',\n",
       "  'height',\n",
       "  'ifi',\n",
       "  'red',\n",
       "  'resolution',\n",
       "  'white',\n",
       "  'width',\n",
       "  'winPtr'],\n",
       " 'fixation': ['params'],\n",
       " 'rdk': ['coh_dots', 'incoh_dots', 'params'],\n",
       " 'run_data': ['actual_dur',\n",
       "  'coherence_levels',\n",
       "  'correct',\n",
       "  'exp_start',\n",
       "  'exp_stop',\n",
       "  'reach_dur',\n",
       "  'reach_rt',\n",
       "  'trajectory',\n",
       "  'trial_coherence',\n",
       "  'trial_delay_dur',\n",
       "  'trial_directions',\n",
       "  'trial_fix_dur',\n",
       "  'trial_iti_dur',\n",
       "  'trial_perturb',\n",
       "  'trial_target',\n",
       "  'trial_time_idx',\n",
       "  'vis_trajectory'],\n",
       " 'run_params': ['CCW',\n",
       "  'CW',\n",
       "  'block',\n",
       "  'del_dur_max',\n",
       "  'del_dur_min',\n",
       "  'feedback_dur_max',\n",
       "  'final_feedback_dur_max',\n",
       "  'fix_dur_max',\n",
       "  'fix_dur_min',\n",
       "  'group',\n",
       "  'home_thresh',\n",
       "  'iti_dur_max',\n",
       "  'iti_dur_min',\n",
       "  'n_trials',\n",
       "  'rdk_dur_max',\n",
       "  'reach_dur_max',\n",
       "  'session',\n",
       "  'subj_id',\n",
       "  'trial_type'],\n",
       " 'targets': ['cursor_size',\n",
       "  'n_targets',\n",
       "  'perturbation_mag',\n",
       "  'positions',\n",
       "  'radius',\n",
       "  'size']}"
      ]
     },
     "execution_count": 5,
     "metadata": {},
     "output_type": "execute_result"
    }
   ],
   "source": [
    "level1"
   ]
  },
  {
   "cell_type": "markdown",
   "id": "played-architecture",
   "metadata": {},
   "source": [
    "### DATA EXTRACTION"
   ]
  },
  {
   "cell_type": "code",
   "execution_count": 11,
   "id": "stopped-palestine",
   "metadata": {},
   "outputs": [
    {
     "data": {
      "text/plain": [
       "array([1920., 1080.])"
      ]
     },
     "execution_count": 11,
     "metadata": {},
     "output_type": "execute_result"
    }
   ],
   "source": [
    "# resolution\n",
    "np.array(fil[\"display\"][\"resolution\"]).flatten()"
   ]
  },
  {
   "cell_type": "code",
   "execution_count": 12,
   "id": "ruled-neighborhood",
   "metadata": {},
   "outputs": [
    {
     "data": {
      "text/plain": [
       "array([10.])"
      ]
     },
     "execution_count": 12,
     "metadata": {},
     "output_type": "execute_result"
    }
   ],
   "source": [
    "np.array(fil[\"display\"][\"winPtr\"]).flatten()"
   ]
  },
  {
   "cell_type": "code",
   "execution_count": 13,
   "id": "nuclear-killer",
   "metadata": {},
   "outputs": [
    {
     "data": {
      "text/plain": [
       "array([80.])"
      ]
     },
     "execution_count": 13,
     "metadata": {},
     "output_type": "execute_result"
    }
   ],
   "source": [
    "np.array(fil[\"display\"][\"dist\"]).flatten()"
   ]
  },
  {
   "cell_type": "code",
   "execution_count": 14,
   "id": "massive-investment",
   "metadata": {},
   "outputs": [
    {
     "data": {
      "text/plain": [
       "array([43.])"
      ]
     },
     "execution_count": 14,
     "metadata": {},
     "output_type": "execute_result"
    }
   ],
   "source": [
    "np.array(fil[\"display\"][\"width\"]).flatten()"
   ]
  },
  {
   "cell_type": "code",
   "execution_count": 15,
   "id": "israeli-ranch",
   "metadata": {},
   "outputs": [
    {
     "data": {
      "text/plain": [
       "array([32.])"
      ]
     },
     "execution_count": 15,
     "metadata": {},
     "output_type": "execute_result"
    }
   ],
   "source": [
    "np.array(fil[\"display\"][\"height\"]).flatten()"
   ]
  },
  {
   "cell_type": "code",
   "execution_count": 16,
   "id": "cubic-front",
   "metadata": {},
   "outputs": [
    {
     "data": {
      "text/plain": [
       "array([ 50,  49,  45,  83, 101, 112,  45,  50,  48,  50,  48,  32,  49,\n",
       "        53,  58,  49,  48,  58,  53,  49], dtype=uint16)"
      ]
     },
     "execution_count": 16,
     "metadata": {},
     "output_type": "execute_result"
    }
   ],
   "source": [
    "np.array(fil[\"run_data\"][\"exp_start\"]).flatten()"
   ]
  },
  {
   "cell_type": "code",
   "execution_count": 17,
   "id": "specific-fundamentals",
   "metadata": {},
   "outputs": [
    {
     "data": {
      "text/plain": [
       "array([ 50,  49,  45,  83, 101, 112,  45,  50,  48,  50,  48,  32,  49,\n",
       "        53,  58,  49,  57,  58,  53,  50], dtype=uint16)"
      ]
     },
     "execution_count": 17,
     "metadata": {},
     "output_type": "execute_result"
    }
   ],
   "source": [
    "np.array(fil[\"run_data\"][\"exp_stop\"]).flatten()"
   ]
  },
  {
   "cell_type": "code",
   "execution_count": 18,
   "id": "attempted-toyota",
   "metadata": {},
   "outputs": [
    {
     "data": {
      "text/plain": [
       "array([[1., 1., 0., 1., 1., 1., 0., 1., 1., 1., 0., 0., 1., 1., 0., 0.,\n",
       "        1., 0., 1., 0., 1., 0., 1., 1., 0., 1., 1., 1., 0., 0., 0., 0.,\n",
       "        0., 0., 1., 0., 1., 1., 1., 1., 1., 0., 0., 0., 0., 1., 1., 0.,\n",
       "        1., 0., 0., 1., 1., 0., 1., 0.]])"
      ]
     },
     "execution_count": 18,
     "metadata": {},
     "output_type": "execute_result"
    }
   ],
   "source": [
    "# is response correct\n",
    "np.array(fil[\"run_data\"][\"correct\"])"
   ]
  },
  {
   "cell_type": "code",
   "execution_count": 19,
   "id": "piano-visiting",
   "metadata": {},
   "outputs": [
    {
     "data": {
      "text/plain": [
       "array([[0.08338515, 0.04165801, 0.07503972, 0.08338968, 0.06665234,\n",
       "        0.08331633, 0.08334833, 0.05834615, 0.0499811 , 0.0833761 ,\n",
       "        0.09169828, 0.05001702, 0.03334247, 0.04163869, 0.03333945,\n",
       "        0.08333203, 0.05000374, 0.07501527, 0.06668705,        inf,\n",
       "        0.07504637, 0.04167945, 0.07502524, 0.04169363, 0.05001702,\n",
       "        0.05831204, 0.12509478, 0.07502433,        nan, 0.07502614,\n",
       "        0.05001552, 0.05001401, 0.05837   , 0.09170371, 0.04167763,\n",
       "        0.11667359, 0.04167975, 0.04163326, 0.05005536, 0.03334368,\n",
       "        0.05839415, 0.10837555, 0.07506267, 0.06669007, 0.07504757,\n",
       "        0.04170058, 0.05001491, 0.07500109, 0.06665596, 0.04998261,\n",
       "               nan, 0.0250067 , 0.05829182,        nan, 0.04166707,\n",
       "        0.10838551]])"
      ]
     },
     "execution_count": 19,
     "metadata": {},
     "output_type": "execute_result"
    }
   ],
   "source": [
    "np.array(fil[\"run_data\"][\"reach_dur\"])"
   ]
  },
  {
   "cell_type": "code",
   "execution_count": 20,
   "id": "cardiac-contrary",
   "metadata": {},
   "outputs": [
    {
     "data": {
      "text/plain": [
       "array([[0.54987817, 0.44175437, 0.47512581, 0.65852419, 0.4168017 ,\n",
       "        0.42516433, 0.4334515 , 0.43344607, 0.40846412, 0.41677966,\n",
       "        0.30841558, 0.35011555, 0.55014954, 0.50016904, 0.44179391,\n",
       "        0.35845283, 0.35845736, 0.46678371, 0.56679783, 0.75852926,\n",
       "        0.42501884, 0.43343007, 0.44179481, 0.43345874, 0.5001467 ,\n",
       "        0.3750809 , 0.51678443, 0.48347547,        nan, 0.40011326,\n",
       "        0.3750815 , 0.51681975, 0.72521939, 0.3500754 , 0.41678962,\n",
       "        0.55850734, 0.4834649 , 0.37512738, 0.54180381, 0.43346388,\n",
       "        0.5168279 , 0.5418029 , 0.46677707, 0.60017381, 0.50849907,\n",
       "        0.50013161, 0.44183587, 0.48347849, 0.45851435, 0.44183013,\n",
       "               nan, 0.35009382, 0.64190698,        nan, 0.49181637,\n",
       "        0.35840272]])"
      ]
     },
     "execution_count": 20,
     "metadata": {},
     "output_type": "execute_result"
    }
   ],
   "source": [
    "np.array(fil[\"run_data\"][\"reach_rt\"])"
   ]
  },
  {
   "cell_type": "code",
   "execution_count": 139,
   "id": "green-finger",
   "metadata": {},
   "outputs": [
    {
     "data": {
      "text/plain": [
       "(3, 300000)"
      ]
     },
     "execution_count": 139,
     "metadata": {},
     "output_type": "execute_result"
    }
   ],
   "source": [
    "# x,y,t x 300000 x trials\n",
    "np.array(fil[\"run_data\"][\"trajectory\"])[:,:,0].shape"
   ]
  },
  {
   "cell_type": "code",
   "execution_count": 22,
   "id": "neural-damage",
   "metadata": {},
   "outputs": [
    {
     "data": {
      "text/plain": [
       "array([0.        , 0.        , 0.29230122, 0.43845183, 0.29230122,\n",
       "       0.43845183, 0.        , 0.58460243, 0.29230122, 0.43845183,\n",
       "       0.        , 0.43845183, 0.58460243, 0.58460243, 0.43845183,\n",
       "       0.29230122, 0.43845183, 0.43845183, 0.29230122, 0.43845183,\n",
       "       0.58460243, 0.58460243, 0.58460243, 0.29230122, 0.43845183,\n",
       "       0.58460243, 0.58460243, 0.29230122, 0.        , 0.        ,\n",
       "       0.29230122, 0.29230122, 0.58460243, 0.58460243, 0.43845183,\n",
       "       0.58460243, 0.43845183, 0.58460243, 0.43845183, 0.        ,\n",
       "       0.58460243, 0.29230122, 0.58460243, 0.58460243, 0.29230122,\n",
       "       0.29230122, 0.43845183, 0.29230122, 0.29230122, 0.43845183,\n",
       "       0.        , 0.58460243, 0.43845183, 0.29230122, 0.29230122,\n",
       "       0.43845183])"
      ]
     },
     "execution_count": 22,
     "metadata": {},
     "output_type": "execute_result"
    }
   ],
   "source": [
    "np.array(fil[\"run_data\"][\"trial_coherence\"]).flatten()"
   ]
  },
  {
   "cell_type": "code",
   "execution_count": 23,
   "id": "sharing-office",
   "metadata": {},
   "outputs": [
    {
     "data": {
      "text/plain": [
       "array([0.        , 0.        , 0.29230122, 0.43845183, 0.29230122,\n",
       "       0.43845183, 0.        , 0.58460243, 0.29230122, 0.43845183,\n",
       "       0.        , 0.43845183, 0.58460243, 0.58460243, 0.43845183,\n",
       "       0.29230122, 0.43845183, 0.43845183, 0.29230122, 0.43845183,\n",
       "       0.58460243, 0.58460243, 0.58460243, 0.29230122, 0.43845183,\n",
       "       0.58460243, 0.58460243, 0.29230122, 0.        , 0.        ,\n",
       "       0.29230122, 0.29230122, 0.58460243, 0.58460243, 0.43845183,\n",
       "       0.58460243, 0.43845183, 0.58460243, 0.43845183, 0.        ,\n",
       "       0.58460243, 0.29230122, 0.58460243, 0.58460243, 0.29230122,\n",
       "       0.29230122, 0.43845183, 0.29230122, 0.29230122, 0.43845183,\n",
       "       0.        , 0.58460243, 0.43845183, 0.29230122, 0.29230122,\n",
       "       0.43845183])"
      ]
     },
     "execution_count": 23,
     "metadata": {},
     "output_type": "execute_result"
    }
   ],
   "source": [
    "np.array(fil[\"run_data\"][\"trial_coherence\"]).flatten()"
   ]
  },
  {
   "cell_type": "code",
   "execution_count": 24,
   "id": "alternative-nightmare",
   "metadata": {},
   "outputs": [
    {
     "data": {
      "text/plain": [
       "array([ 0.,  0.,  1.,  1., -1., -1.,  0., -1., -1., -1.,  0., -1.,  1.,\n",
       "       -1.,  1.,  1., -1., -1., -1., -1., -1.,  1., -1., -1.,  1.,  1.,\n",
       "       -1., -1.,  0.,  0.,  1., -1.,  1.,  1., -1., -1., -1., -1.,  1.,\n",
       "        0.,  1.,  1.,  1.,  1.,  1.,  1.,  1., -1.,  1.,  1.,  0., -1.,\n",
       "        1., -1.,  1.,  1.])"
      ]
     },
     "execution_count": 24,
     "metadata": {},
     "output_type": "execute_result"
    }
   ],
   "source": [
    "np.array(fil[\"run_data\"][\"trial_directions\"]).flatten()"
   ]
  },
  {
   "cell_type": "code",
   "execution_count": 25,
   "id": "refined-freeware",
   "metadata": {},
   "outputs": [
    {
     "data": {
      "text/plain": [
       "array([1.29178373, 1.32871343, 1.528748  , 1.40463055, 1.74668398,\n",
       "       1.625112  , 1.71831178, 1.39512752, 1.74047989, 1.88492202,\n",
       "       1.11043702, 1.36531796, 1.4623388 , 1.89084053, 1.40700792,\n",
       "       1.1214708 , 1.34747989, 1.01063986, 1.66557119, 1.70821741,\n",
       "       1.21406984, 1.85913143, 1.88148062, 1.46709321, 1.00115009,\n",
       "       1.6240707 , 1.14266327, 1.83513718, 1.19554994, 1.00773612,\n",
       "       1.58111554, 1.00179244, 1.95268869, 1.97019276, 1.80389909,\n",
       "       1.62684169, 1.81892941, 1.56636531, 1.0833237 , 1.56110813,\n",
       "       1.73099115, 1.12178278, 1.39315051, 1.58408767, 1.2577789 ,\n",
       "       1.33073905, 1.59087638, 1.45009975, 1.02688068, 1.0994775 ,\n",
       "       1.3069628 , 1.26547431, 1.72682806, 1.95389961, 1.1862906 ,\n",
       "       1.47774106])"
      ]
     },
     "execution_count": 25,
     "metadata": {},
     "output_type": "execute_result"
    }
   ],
   "source": [
    "np.array(fil[\"run_data\"][\"trial_fix_dur\"]).flatten()"
   ]
  },
  {
   "cell_type": "code",
   "execution_count": 26,
   "id": "naked-pound",
   "metadata": {},
   "outputs": [
    {
     "data": {
      "text/plain": [
       "array([1.73576637, 1.87831278, 1.71349522, 1.76173385, 1.72371458,\n",
       "       1.50573204, 1.92638062, 1.81478966, 1.69349327, 1.86146806,\n",
       "       1.94240461, 1.8597495 , 1.78308879, 1.83177385, 1.87065788,\n",
       "       1.79747903, 1.83689396, 1.94775749, 1.64674605, 1.86204012,\n",
       "       1.51561221, 1.71154218, 1.78566658, 1.76352608, 1.99015986,\n",
       "       1.86572536, 1.65165187, 1.79228958, 1.72706395, 1.6172568 ,\n",
       "       1.69275718, 1.55617742, 1.95778195, 1.76063203, 1.60860241,\n",
       "       1.66299007, 1.7500494 , 1.95503034, 1.50267626, 1.55057765,\n",
       "       1.69550045, 1.67511483, 1.52758295, 1.55297044, 1.74632024,\n",
       "       1.78316649, 1.86272547, 1.73640673, 1.58930673, 1.86195307,\n",
       "       1.99124078, 1.65378686, 1.99687766, 1.69678779, 1.84418535,\n",
       "       1.90213365])"
      ]
     },
     "execution_count": 26,
     "metadata": {},
     "output_type": "execute_result"
    }
   ],
   "source": [
    "np.array(fil[\"run_data\"][\"trial_iti_dur\"]).flatten()"
   ]
  },
  {
   "cell_type": "code",
   "execution_count": 27,
   "id": "close-filing",
   "metadata": {},
   "outputs": [
    {
     "data": {
      "text/plain": [
       "array([ 0.        ,  0.        ,  0.52359878,  0.52359878, -0.52359878,\n",
       "       -0.52359878,  0.        , -0.52359878, -0.52359878, -0.52359878,\n",
       "        0.        , -0.52359878,  0.52359878, -0.52359878,  0.52359878,\n",
       "        0.52359878, -0.52359878, -0.52359878, -0.52359878, -0.52359878,\n",
       "       -0.52359878,  0.52359878, -0.52359878, -0.52359878,  0.52359878,\n",
       "        0.52359878, -0.52359878, -0.52359878,  0.        ,  0.        ,\n",
       "        0.52359878, -0.52359878,  0.52359878,  0.52359878, -0.52359878,\n",
       "       -0.52359878, -0.52359878, -0.52359878,  0.52359878,  0.        ,\n",
       "        0.52359878,  0.52359878,  0.52359878,  0.52359878,  0.52359878,\n",
       "        0.52359878,  0.52359878, -0.52359878,  0.52359878,  0.52359878,\n",
       "        0.        , -0.52359878,  0.52359878, -0.52359878,  0.52359878,\n",
       "        0.52359878])"
      ]
     },
     "execution_count": 27,
     "metadata": {},
     "output_type": "execute_result"
    }
   ],
   "source": [
    "np.array(fil[\"run_data\"][\"trial_perturb\"]).flatten()"
   ]
  },
  {
   "cell_type": "code",
   "execution_count": 28,
   "id": "pressed-external",
   "metadata": {},
   "outputs": [
    {
     "data": {
      "text/plain": [
       "array([3., 1., 2., 3., 1., 1., 2., 2., 3., 2., 2., 2., 2., 3., 1., 3., 3.,\n",
       "       1., 2., 1., 2., 3., 2., 2., 1., 1., 1., 1., 3., 2., 1., 1., 3., 2.,\n",
       "       3., 1., 3., 3., 1., 1., 2., 2., 3., 1., 1., 3., 3., 2., 2., 3., 3.,\n",
       "       3., 2., 3., 1., 2.])"
      ]
     },
     "execution_count": 28,
     "metadata": {},
     "output_type": "execute_result"
    }
   ],
   "source": [
    "np.array(fil[\"run_data\"][\"trial_target\"]).flatten() -1"
   ]
  },
  {
   "cell_type": "code",
   "execution_count": 29,
   "id": "democratic-advantage",
   "metadata": {},
   "outputs": [
    {
     "data": {
      "text/plain": [
       "array([ 77.,  59.,  67.,  90.,  59.,  62.,  63.,  60.,  56.,  61.,  49.,\n",
       "        49.,  71.,  66.,  58.,  54.,  50.,  66.,  77., 121.,  61.,  58.,\n",
       "        63.,  58.,  67.,  53.,  78.,  68.,  -1.,  58.,  52.,  69.,  95.,\n",
       "        54.,  56.,  82.,  64.,  51.,  72.,  57.,  70.,  79.,  66.,  81.,\n",
       "        71.,  66.,  60.,  68.,  64.,  60.,  -1.,  46.,  85.,  -1.,  65.,\n",
       "        57.])"
      ]
     },
     "execution_count": 29,
     "metadata": {},
     "output_type": "execute_result"
    }
   ],
   "source": [
    "np.array(fil[\"run_data\"][\"trial_time_idx\"]).flatten() -1"
   ]
  },
  {
   "cell_type": "code",
   "execution_count": 30,
   "id": "breeding-underground",
   "metadata": {},
   "outputs": [
    {
     "data": {
      "text/plain": [
       "array([1.])"
      ]
     },
     "execution_count": 30,
     "metadata": {},
     "output_type": "execute_result"
    }
   ],
   "source": [
    "np.array(fil[\"run_params\"][\"CW\"]).flatten()"
   ]
  },
  {
   "cell_type": "code",
   "execution_count": 31,
   "id": "interesting-banana",
   "metadata": {},
   "outputs": [
    {
     "data": {
      "text/plain": [
       "array([-1.])"
      ]
     },
     "execution_count": 31,
     "metadata": {},
     "output_type": "execute_result"
    }
   ],
   "source": [
    "np.array(fil[\"run_params\"][\"CCW\"]).flatten()"
   ]
  },
  {
   "cell_type": "code",
   "execution_count": 32,
   "id": "annual-rebate",
   "metadata": {},
   "outputs": [
    {
     "data": {
      "text/plain": [
       "array([6.])"
      ]
     },
     "execution_count": 32,
     "metadata": {},
     "output_type": "execute_result"
    }
   ],
   "source": [
    "np.array(fil[\"run_params\"][\"block\"]).flatten()"
   ]
  },
  {
   "cell_type": "code",
   "execution_count": 33,
   "id": "gross-particular",
   "metadata": {},
   "outputs": [
    {
     "data": {
      "text/plain": [
       "array([1.])"
      ]
     },
     "execution_count": 33,
     "metadata": {},
     "output_type": "execute_result"
    }
   ],
   "source": [
    "np.array(fil[\"run_params\"][\"del_dur_max\"]).flatten()"
   ]
  },
  {
   "cell_type": "code",
   "execution_count": 34,
   "id": "suited-position",
   "metadata": {},
   "outputs": [
    {
     "data": {
      "text/plain": [
       "array([0.5])"
      ]
     },
     "execution_count": 34,
     "metadata": {},
     "output_type": "execute_result"
    }
   ],
   "source": [
    "np.array(fil[\"run_params\"][\"del_dur_min\"]).flatten()"
   ]
  },
  {
   "cell_type": "code",
   "execution_count": 35,
   "id": "preliminary-separation",
   "metadata": {},
   "outputs": [
    {
     "data": {
      "text/plain": [
       "array([1.])"
      ]
     },
     "execution_count": 35,
     "metadata": {},
     "output_type": "execute_result"
    }
   ],
   "source": [
    "np.array(fil[\"run_params\"][\"group\"]).flatten()"
   ]
  },
  {
   "cell_type": "code",
   "execution_count": 36,
   "id": "simplified-smile",
   "metadata": {},
   "outputs": [
    {
     "data": {
      "text/plain": [
       "array([1.])"
      ]
     },
     "execution_count": 36,
     "metadata": {},
     "output_type": "execute_result"
    }
   ],
   "source": [
    "np.array(fil[\"run_params\"][\"home_thresh\"]).flatten()"
   ]
  },
  {
   "cell_type": "code",
   "execution_count": 37,
   "id": "geographic-lafayette",
   "metadata": {},
   "outputs": [
    {
     "data": {
      "text/plain": [
       "array([2.])"
      ]
     },
     "execution_count": 37,
     "metadata": {},
     "output_type": "execute_result"
    }
   ],
   "source": [
    "np.array(fil[\"run_params\"][\"iti_dur_max\"]).flatten()"
   ]
  },
  {
   "cell_type": "code",
   "execution_count": 38,
   "id": "binary-solid",
   "metadata": {},
   "outputs": [
    {
     "data": {
      "text/plain": [
       "array([1.5])"
      ]
     },
     "execution_count": 38,
     "metadata": {},
     "output_type": "execute_result"
    }
   ],
   "source": [
    "np.array(fil[\"run_params\"][\"iti_dur_min\"]).flatten()"
   ]
  },
  {
   "cell_type": "code",
   "execution_count": 39,
   "id": "copyrighted-digit",
   "metadata": {},
   "outputs": [
    {
     "data": {
      "text/plain": [
       "array([56.])"
      ]
     },
     "execution_count": 39,
     "metadata": {},
     "output_type": "execute_result"
    }
   ],
   "source": [
    "np.array(fil[\"run_params\"][\"n_trials\"]).flatten()"
   ]
  },
  {
   "cell_type": "code",
   "execution_count": 40,
   "id": "liable-sponsorship",
   "metadata": {},
   "outputs": [
    {
     "data": {
      "text/plain": [
       "array([2.])"
      ]
     },
     "execution_count": 40,
     "metadata": {},
     "output_type": "execute_result"
    }
   ],
   "source": [
    "np.array(fil[\"run_params\"][\"rdk_dur_max\"]).flatten()"
   ]
  },
  {
   "cell_type": "code",
   "execution_count": 41,
   "id": "consistent-starter",
   "metadata": {},
   "outputs": [
    {
     "data": {
      "text/plain": [
       "array([1.])"
      ]
     },
     "execution_count": 41,
     "metadata": {},
     "output_type": "execute_result"
    }
   ],
   "source": [
    "np.array(fil[\"run_params\"][\"session\"]).flatten()"
   ]
  },
  {
   "cell_type": "code",
   "execution_count": 545,
   "id": "disturbed-relationship",
   "metadata": {},
   "outputs": [
    {
     "data": {
      "text/plain": [
       "101"
      ]
     },
     "execution_count": 545,
     "metadata": {},
     "output_type": "execute_result"
    }
   ],
   "source": [
    "np.array(fil[\"run_params\"][\"subj_id\"]).flatten().astype(int)[0]"
   ]
  },
  {
   "cell_type": "code",
   "execution_count": 43,
   "id": "collected-raleigh",
   "metadata": {},
   "outputs": [
    {
     "data": {
      "text/plain": [
       "array([1.])"
      ]
     },
     "execution_count": 43,
     "metadata": {},
     "output_type": "execute_result"
    }
   ],
   "source": [
    "np.array(fil[\"run_params\"][\"trial_type\"]).flatten()"
   ]
  },
  {
   "cell_type": "code",
   "execution_count": 44,
   "id": "light-parish",
   "metadata": {},
   "outputs": [
    {
     "data": {
      "text/plain": [
       "array([3.])"
      ]
     },
     "execution_count": 44,
     "metadata": {},
     "output_type": "execute_result"
    }
   ],
   "source": [
    "np.array(fil[\"targets\"][\"n_targets\"]).flatten()"
   ]
  },
  {
   "cell_type": "code",
   "execution_count": 298,
   "id": "permanent-treaty",
   "metadata": {},
   "outputs": [
    {
     "name": "stdout",
     "output_type": "stream",
     "text": [
      "1920 1080\n"
     ]
    }
   ],
   "source": [
    "\n",
    "print(w_px, h_px)"
   ]
  },
  {
   "cell_type": "code",
   "execution_count": 259,
   "id": "unable-fundamentals",
   "metadata": {},
   "outputs": [],
   "source": [
    "def cart2pol(x, y):\n",
    "    radius = np.sqrt(x**2 + y**2)\n",
    "    angle = np.arctan2(y, x)\n",
    "    return [radius, angle]\n",
    "\n",
    "def pol2cart(radius, angle):\n",
    "    x = radius * np.cos(angle)\n",
    "    y = radius * np.sin(angle)\n",
    "    return [x, y]"
   ]
  },
  {
   "cell_type": "code",
   "execution_count": 586,
   "id": "digital-testing",
   "metadata": {
    "scrolled": false
   },
   "outputs": [
    {
     "data": {
      "text/plain": [
       "(-55.0, 55.0)"
      ]
     },
     "execution_count": 586,
     "metadata": {},
     "output_type": "execute_result"
    },
    {
     "data": {
      "image/png": "[encoded data removed]",
      "text/plain": [
       "<Figure size 864x504 with 1 Axes>"
      ]
     },
     "metadata": {},
     "output_type": "display_data"
    },
    {
     "data": {
      "image/png": "[encoded data removed]",
      "text/plain": [
       "<Figure size 720x720 with 1 Axes>"
      ]
     },
     "metadata": {},
     "output_type": "display_data"
    },
    {
     "data": {
      "image/png": "[encoded data removed]",
      "text/plain": [
       "<Figure size 864x432 with 1 Axes>"
      ]
     },
     "metadata": {},
     "output_type": "display_data"
    }
   ],
   "source": [
    "w_px, h_px = np.array(fil[\"display\"][\"resolution\"]).flatten().astype(int)\n",
    "w_cm = np.array(fil[\"display\"][\"width\"]).flatten().astype(int)[0]\n",
    "h_cm = np.array(fil[\"display\"][\"height\"]).flatten().astype(int)[0]\n",
    "d_cm = np.array(fil[\"display\"][\"dist\"]).flatten().astype(int)[0]\n",
    "va = visang.VisualAngle(w_px, h_px, w_cm, h_cm, d_cm)\n",
    "\n",
    "index = 53\n",
    "\n",
    "time_ix = int(np.array(fil[\"run_data\"][\"trial_time_idx\"]).flatten()[index]) -1\n",
    "x = np.array(fil[\"run_data\"][\"trajectory\"])[0,:,index][:time_ix]\n",
    "y = -np.array(fil[\"run_data\"][\"trajectory\"])[1,:,index][:time_ix]\n",
    "t = np.array(fil[\"run_data\"][\"trajectory\"])[2,:,index][:time_ix]\n",
    "\n",
    "xy = zip(x, y)\n",
    "radius, angle = zip(*[cart2pol(p[0], p[1]) for p in xy])\n",
    "\n",
    "targets = list(zip(np.array(fil[\"targets\"][\"positions\"])[1], np.array(fil[\"targets\"][\"positions\"])[0]))\n",
    "trial_target = int(np.array(fil[\"run_data\"][\"trial_target\"]).flatten()[index] -1)\n",
    "\n",
    "perturb_rad = np.array(fil[\"run_data\"][\"trial_perturb\"]).flatten()[index]\n",
    "perturb_angle = targets[trial_target][1] - perturb_rad # + or - ???\n",
    "perturb_cart = pol2cart(targets[0][0]*va.degPix(), perturb_angle)\n",
    "\n",
    "targets_cart = [pol2cart(i[0]*va.degPix(), i[1]) for i in targets]\n",
    "targets_cart = np.array(targets_cart)\n",
    "\n",
    "\n",
    "f, ax = plt.subplots(figsize=(12,7))\n",
    "f.patch.set_facecolor('gray')\n",
    "circle = patches.Circle([0,0], radius=targets_cart[-1][0], edgecolor=\"black\", fill=False)\n",
    "ax.add_patch(circle)\n",
    "ax.scatter(targets_cart[:,0], -targets_cart[:,1], c=\"r\") # all targets + neg y axis?\n",
    "ax.scatter(targets_cart[trial_target,0], -targets_cart[trial_target,1], c=\"g\", s=70) # trial target\n",
    "\n",
    "ax.plot([0, perturb_cart[0]], [0, -perturb_cart[1]], c=\"green\", lw=1.5)\n",
    "\n",
    "[ax.plot([0, i[0]], [0, -i[1]], c=\"black\", lw=0.5) for i in targets_cart] # ideal responses for each target\n",
    "ax.plot(x, y) # trajectory\n",
    "plt.xlim(-(1920/2), (1920/2))\n",
    "plt.ylim(-(1080/2), (1080/2))\n",
    "\n",
    "\n",
    "targets_arr = np.array(targets)\n",
    "target_radius = targets_arr[:,0][trial_target]*va.degPix()\n",
    "target_angle = np.abs(targets_arr[:,1][trial_target])\n",
    "f = plt.figure(figsize=(10,10))\n",
    "f.patch.set_facecolor('gray')\n",
    "ax = plt.subplot(111, projection='polar')\n",
    "ax.plot(np.linspace(0, 2*np.pi, 100), np.full(100, target_radius), c=\"blue\")\n",
    "ax.plot(angle, radius, c=\"cyan\")\n",
    "ax.scatter(np.abs(targets_arr[:,1]), targets_arr[:,0]*va.degPix(), c=\"gray\", s=400)\n",
    "ax.scatter(target_angle, target_radius, c=\"green\", s=1400)\n",
    "ax.plot([0, target_angle], [0, target_radius-30], c=\"green\",lw=10)\n",
    "\n",
    "ax.plot([0, -perturb_angle], [0, 450], c=\"red\", lw=1.5)\n",
    "f, ax = plt.subplots(figsize=(12,6))\n",
    "f.patch.set_facecolor('gray')\n",
    "\n",
    "dev_from_t = np.rad2deg(np.abs(angle) - target_angle)\n",
    "targ_cross = np.min(np.where(radius > target_radius))\n",
    "fiddypx_cross = np.min(np.where(radius > np.array(50)))\n",
    "\n",
    "ax.plot((t/1000)[fiddypx_cross:targ_cross+1], dev_from_t[fiddypx_cross:targ_cross+1])\n",
    "plt.grid()\n",
    "ax.scatter((t/1000)[targ_cross], dev_from_t[targ_cross])\n",
    "ax.scatter((t/1000)[fiddypx_cross], dev_from_t[fiddypx_cross])\n",
    "plt.ylim(-55,55)"
   ]
  },
  {
   "cell_type": "code",
   "execution_count": 584,
   "id": "nuclear-occurrence",
   "metadata": {},
   "outputs": [
    {
     "name": "stdout",
     "output_type": "stream",
     "text": [
      "total auc 104.27052559214633\n",
      "bottomed auc 27.660152647761922\n",
      "avg angle from the target 20.674413328192284\n",
      "trial_direction 1\n",
      "trial_target 3\n",
      "aim_target 15.322074588876884\n",
      "final_target 24.558864504163143\n",
      "subject 101\n",
      "group 1\n",
      "block 3\n",
      "reach_dur 0.04167703038547188\n",
      "reach_rt 0.45847902935929596\n",
      "trial_coherence add label 0 lo med hi for coherence 0.5846024344421291\n",
      "trial_perturb 0.5235987755982988\n",
      "trial_type 1\n",
      "\n"
     ]
    }
   ],
   "source": [
    "print(\"total auc\", simps(np.abs(dev_from_t[fiddypx_cross:targ_cross+1])))\n",
    "print(\"bottomed auc\", simps(np.abs(dev_from_t[fiddypx_cross:targ_cross+1]) - np.min(np.abs(dev_from_t[fiddypx_cross:targ_cross+1]))))\n",
    "print(\"avg angle from the target\", np.mean(dev_from_t[fiddypx_cross:targ_cross+1]))\n",
    "print(\"trial_direction\", np.array(fil[\"run_data\"][\"trial_directions\"]).flatten().astype(int)[index])\n",
    "print(\"trial_target\", np.array(fil[\"run_data\"][\"trial_target\"]).flatten().astype(int)[index])\n",
    "print(\"aim_target\", dev_from_t[fiddypx_cross])\n",
    "print(\"final_target\", dev_from_t[targ_cross])\n",
    "print(\"subject\", np.array(fil[\"run_params\"][\"subj_id\"]).flatten().astype(int)[0])\n",
    "print(\"group\", np.array(fil[\"run_params\"][\"group\"]).flatten().astype(int)[0])\n",
    "print(\"block\", np.array(fil[\"run_params\"][\"block\"]).flatten().astype(int)[0])\n",
    "print(\"reach_dur\", np.array(fil[\"run_data\"][\"reach_dur\"]).flatten()[index])\n",
    "print(\"reach_rt\", np.array(fil[\"run_data\"][\"reach_rt\"]).flatten()[index])\n",
    "print(\"trial_coherence\", \"add label 0 lo med hi for coherence\", np.array(fil[\"run_data\"][\"trial_coherence\"]).flatten()[index])\n",
    "print(\"trial_perturb\", np.array(fil[\"run_data\"][\"trial_perturb\"]).flatten()[index])\n",
    "print(\"trial_type\", np.array(fil[\"run_params\"][\"trial_type\"]).flatten().astype(int)[0])\n",
    "print(\"\")\n",
    "# print(\"block\", "
   ]
  },
  {
   "cell_type": "code",
   "execution_count": 564,
   "id": "prospective-delivery",
   "metadata": {},
   "outputs": [
    {
     "data": {
      "text/plain": [
       "array([[1.]])"
      ]
     },
     "execution_count": 564,
     "metadata": {},
     "output_type": "execute_result"
    }
   ],
   "source": [
    "np.array(fil[\"run_params\"][\"trial_type\"])"
   ]
  },
  {
   "cell_type": "code",
   "execution_count": null,
   "id": "mediterranean-liverpool",
   "metadata": {},
   "outputs": [],
   "source": []
  }
 ],
 "metadata": {
  "kernelspec": {
   "display_name": "Python 3",
   "language": "python",
   "name": "python3"
  },
  "language_info": {
   "codemirror_mode": {
    "name": "ipython",
    "version": 3
   },
   "file_extension": ".py",
   "mimetype": "text/x-python",
   "name": "python",
   "nbconvert_exporter": "python",
   "pygments_lexer": "ipython3",
   "version": "3.8.5"
  }
 },
 "nbformat": 4,
 "nbformat_minor": 5
}
